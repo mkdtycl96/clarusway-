{
 "cells": [
  {
   "cell_type": "code",
   "execution_count": null,
   "metadata": {},
   "outputs": [],
   "source": [
    "leap = int(input(\"enter a year: \"))\n",
    "if ((leap % 4 == 0) and (leap % 100 !=0)) or (leap % 400 == 0):\n",
    "    print(leap, \"is a leapyear\")\n",
    "else :\n",
    "    print(leap, \"is not a leapyear\")"
   ]
  }
 ],
 "metadata": {
  "kernelspec": {
   "display_name": "Python 3.8.2 32-bit",
   "language": "python",
   "name": "python38232bitd5352d9a7a3e43f8bb054e7622eb5979"
  },
  "language_info": {
   "codemirror_mode": {
    "name": "ipython",
    "version": 3
   },
   "file_extension": ".py",
   "mimetype": "text/x-python",
   "name": "python",
   "nbconvert_exporter": "python",
   "pygments_lexer": "ipython3",
   "version": "3.8.2"
  }
 },
 "nbformat": 4,
 "nbformat_minor": 4
}
