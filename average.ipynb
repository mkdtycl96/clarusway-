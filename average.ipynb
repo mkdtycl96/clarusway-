{
 "cells": [
  {
   "cell_type": "code",
   "execution_count": null,
   "metadata": {},
   "outputs": [],
   "source": [
    "scores = {'Student-1': {'Lesson-1': 57, 'Lesson-2': 46, 'Lesson-3': 58, 'Lesson-4': 81, 'Lesson-5': 85}, \\\n",
    "'Student-2': {'Lesson-1': 85, 'Lesson-2': 56, 'Lesson-3': 51, 'Lesson-4': 69, 'Lesson-5': 67}, \\\n",
    "'Student-3': {'Lesson-1': 68, 'Lesson-2': 76, 'Lesson-3': 87, 'Lesson-4': 57, 'Lesson-5': 56}, \\\n",
    "'Student-4': {'Lesson-1': 78, 'Lesson-2': 93, 'Lesson-3': 88, 'Lesson-4': 38, 'Lesson-5': 54}, \\\n",
    "'Student-5': {'Lesson-1': 50, 'Lesson-2': 46, 'Lesson-3': 78, 'Lesson-4': 81, 'Lesson-5': 75}}\n",
    "maxavr, minavr = 0, 100\n",
    "for i in scores:\n",
    "    average = sum(scores[i].values())/len(scores[i].values())\n",
    "    if average > maxavr:\n",
    "        maxavr = average\n",
    "        maxkey = i\n",
    "    if minavr > average:\n",
    "        minavr = average\n",
    "        minkey = i\n",
    "    print(f\"{i}   {average:.1f}\")\n",
    "print(f\"\\n{maxkey} has maximum average with a score {maxavr}\\n{minkey} has minimum average with a score {minavr}\")"
   ]
  }
 ],
 "metadata": {
  "kernelspec": {
   "display_name": "Python 3.8.2 32-bit",
   "language": "python",
   "name": "python38232bitd5352d9a7a3e43f8bb054e7622eb5979"
  },
  "language_info": {
   "codemirror_mode": {
    "name": "ipython",
    "version": 3
   },
   "file_extension": ".py",
   "mimetype": "text/x-python",
   "name": "python",
   "nbconvert_exporter": "python",
   "pygments_lexer": "ipython3",
   "version": "3.8.5"
  }
 },
 "nbformat": 4,
 "nbformat_minor": 4
}
